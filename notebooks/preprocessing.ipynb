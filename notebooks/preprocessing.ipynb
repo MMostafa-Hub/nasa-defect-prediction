{
 "cells": [
  {
   "cell_type": "markdown",
   "metadata": {},
   "source": [
    "# Import Libraries"
   ]
  },
  {
   "cell_type": "code",
   "execution_count": 1,
   "metadata": {},
   "outputs": [],
   "source": [
    "import pandas as pd\n",
    "import numpy as np\n",
    "import matplotlib.pyplot as plt\n",
    "import seaborn as sns\n",
    "from glob import glob\n",
    "from typing import List\n",
    "from scipy.io import arff"
   ]
  },
  {
   "cell_type": "markdown",
   "metadata": {},
   "source": [
    "# Data Loading"
   ]
  },
  {
   "cell_type": "code",
   "execution_count": 2,
   "metadata": {},
   "outputs": [],
   "source": [
    "# Get all the file paths\n",
    "paths = glob(\"../data/raw/*.arff\")"
   ]
  },
  {
   "cell_type": "code",
   "execution_count": 3,
   "metadata": {},
   "outputs": [],
   "source": [
    "dataset_names = [path.split(\"/\")[-1].split(\".\")[0].split(\"\\\\\")[-1] for path in paths]"
   ]
  },
  {
   "cell_type": "code",
   "execution_count": 4,
   "metadata": {},
   "outputs": [],
   "source": [
    "dfs: List[pd.DataFrame] = []\n",
    "\n",
    "# Load the arff data into a pandas dataframe\n",
    "for path in paths:\n",
    "    data, meta = arff.loadarff(path)\n",
    "    df = pd.DataFrame(data)\n",
    "    dfs.append(df)"
   ]
  },
  {
   "cell_type": "markdown",
   "metadata": {},
   "source": [
    "# Data Cleaning"
   ]
  },
  {
   "cell_type": "markdown",
   "metadata": {},
   "source": [
    "From EDA we found that:\n",
    "- The `Defected` column needs to be encoded to 0 and 1\n",
    "- There are missing values needs to be Imputed or Dropped\n",
    "- There are duplicate values needs to be dropped\n"
   ]
  },
  {
   "cell_type": "code",
   "execution_count": 5,
   "metadata": {},
   "outputs": [],
   "source": [
    "def clean_df(df: pd.DataFrame) -> pd.DataFrame:\n",
    "    cleaned_df = df.copy()\n",
    "\n",
    "    # Map the class to a binary value\n",
    "    cleaned_df.Defective = cleaned_df.Defective.map({b\"Y\": 1, b\"N\": 0}).astype(bool)\n",
    "\n",
    "    # Drop rows with missing values\n",
    "    cleaned_df.dropna(inplace=True)\n",
    "\n",
    "    # Drop duplicate rows\n",
    "    cleaned_df.drop_duplicates(inplace=True)\n",
    "\n",
    "    return cleaned_df"
   ]
  },
  {
   "cell_type": "code",
   "execution_count": 6,
   "metadata": {},
   "outputs": [],
   "source": [
    "for df, dataset_name in zip(dfs, dataset_names):\n",
    "    clean_df(df).to_csv(f\"../data/processed/{dataset_name}.csv\", index=False)"
   ]
  },
  {
   "cell_type": "code",
   "execution_count": null,
   "metadata": {},
   "outputs": [],
   "source": []
  }
 ],
 "metadata": {
  "kernelspec": {
   "display_name": "langenv",
   "language": "python",
   "name": "python3"
  },
  "language_info": {
   "codemirror_mode": {
    "name": "ipython",
    "version": 3
   },
   "file_extension": ".py",
   "mimetype": "text/x-python",
   "name": "python",
   "nbconvert_exporter": "python",
   "pygments_lexer": "ipython3",
   "version": "3.9.18"
  }
 },
 "nbformat": 4,
 "nbformat_minor": 2
}
